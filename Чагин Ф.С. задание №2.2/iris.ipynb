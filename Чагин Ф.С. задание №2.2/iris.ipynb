{
 "cells": [
  {
   "cell_type": "code",
   "execution_count": 26,
   "id": "91df0878",
   "metadata": {},
   "outputs": [
    {
     "ename": "Pkg.Types.PkgError",
     "evalue": "The following package names could not be resolved:\n * ScikitLearn (not found in project or manifest)",
     "output_type": "error",
     "traceback": [
      "The following package names could not be resolved:\n",
      " * ScikitLearn (not found in project or manifest)\n",
      "\n",
      "Stacktrace:\n",
      " [1] pkgerror(msg::String)\n",
      "   @ Pkg.Types /Applications/Julia-1.11.app/Contents/Resources/julia/share/julia/stdlib/v1.11/Pkg/src/Types.jl:68\n",
      " [2] ensure_resolved(ctx::Pkg.Types.Context, manifest::Pkg.Types.Manifest, pkgs::Vector{Pkg.Types.PackageSpec}; registry::Bool)\n",
      "   @ Pkg.Types /Applications/Julia-1.11.app/Contents/Resources/julia/share/julia/stdlib/v1.11/Pkg/src/Types.jl:1040\n",
      " [3] ensure_resolved\n",
      "   @ /Applications/Julia-1.11.app/Contents/Resources/julia/share/julia/stdlib/v1.11/Pkg/src/Types.jl:991 [inlined]\n",
      " [4] rm(ctx::Pkg.Types.Context, pkgs::Vector{Pkg.Types.PackageSpec}; mode::Pkg.Types.PackageMode, all_pkgs::Bool, kwargs::@Kwargs{io::IOContext{IO}})\n",
      "   @ Pkg.API /Applications/Julia-1.11.app/Contents/Resources/julia/share/julia/stdlib/v1.11/Pkg/src/API.jl:338\n",
      " [5] rm(pkgs::Vector{Pkg.Types.PackageSpec}; io::IOContext{IO}, kwargs::@Kwargs{})\n",
      "   @ Pkg.API /Applications/Julia-1.11.app/Contents/Resources/julia/share/julia/stdlib/v1.11/Pkg/src/API.jl:159\n",
      " [6] rm(pkgs::Vector{Pkg.Types.PackageSpec})\n",
      "   @ Pkg.API /Applications/Julia-1.11.app/Contents/Resources/julia/share/julia/stdlib/v1.11/Pkg/src/API.jl:148\n",
      " [7] rm\n",
      "   @ /Applications/Julia-1.11.app/Contents/Resources/julia/share/julia/stdlib/v1.11/Pkg/src/API.jl:147 [inlined]\n",
      " [8] rm(pkg::String)\n",
      "   @ Pkg.API /Applications/Julia-1.11.app/Contents/Resources/julia/share/julia/stdlib/v1.11/Pkg/src/API.jl:146\n",
      " [9] top-level scope\n",
      "   @ ~/Documents/GitHub/Practice-2/Чагин Ф.С. задание №2.2/jl_notebook_cell_df34fa98e69747e1a8f8a730347b8e2f_W3sZmlsZQ==.jl:2"
     ]
    }
   ],
   "source": [
    "using Pkg\n",
    "Pkg.rm(\"ScikitLearn\")\n",
    "Pkg.add([\"MLJ\", \"MLJModels\", \"PrettyPrinting\"])"
   ]
  },
  {
   "cell_type": "code",
   "execution_count": 27,
   "id": "9ab638dd",
   "metadata": {},
   "outputs": [
    {
     "name": "stderr",
     "output_type": "stream",
     "text": [
      "\u001b[32m\u001b[1m   Resolving\u001b[22m\u001b[39m package versions...\n",
      "\u001b[32m\u001b[1m  No Changes\u001b[22m\u001b[39m to `~/.julia/environments/v1.11/Project.toml`\n",
      "\u001b[32m\u001b[1m  No Changes\u001b[22m\u001b[39m to `~/.julia/environments/v1.11/Manifest.toml`\n"
     ]
    }
   ],
   "source": [
    "using Pkg\n",
    "Pkg.add(\"NearestNeighborModels\")"
   ]
  },
  {
   "cell_type": "code",
   "execution_count": 28,
   "id": "a5598c7a",
   "metadata": {},
   "outputs": [
    {
     "name": "stderr",
     "output_type": "stream",
     "text": [
      "\u001b[32m\u001b[1m   Resolving\u001b[22m\u001b[39m package versions...\n",
      "\u001b[32m\u001b[1m  No Changes\u001b[22m\u001b[39m to `~/.julia/environments/v1.11/Project.toml`\n",
      "\u001b[32m\u001b[1m  No Changes\u001b[22m\u001b[39m to `~/.julia/environments/v1.11/Manifest.toml`\n"
     ]
    }
   ],
   "source": [
    "using Pkg\n",
    "Pkg.add(\"Distributions\")"
   ]
  },
  {
   "cell_type": "code",
   "execution_count": 29,
   "id": "77f581f5",
   "metadata": {},
   "outputs": [
    {
     "name": "stderr",
     "output_type": "stream",
     "text": [
      "┌ Info: For silent loading, specify `verbosity=0`. \n",
      "└ @ Main /Users/fedorcagin/.julia/packages/MLJModels/kHs85/src/loading.jl:159\n"
     ]
    },
    {
     "name": "stdout",
     "output_type": "stream",
     "text": [
      "import NearestNeighborModels ✔\n",
      "Точность модели KNN: 96.67%\n"
     ]
    },
    {
     "name": "stderr",
     "output_type": "stream",
     "text": [
      "┌ Info: Training machine(KNNClassifier(K = 5, …), …).\n",
      "└ @ MLJBase /Users/fedorcagin/.julia/packages/MLJBase/F8Zzu/src/machines.jl:499\n"
     ]
    }
   ],
   "source": [
    "using RDatasets, DataFrames\n",
    "using MLJ, MLJModels, PrettyPrinting\n",
    "import MLJ: fit!, predict, machine\n",
    "\n",
    "# Загрузка данных\n",
    "iris = dataset(\"datasets\", \"iris\")\n",
    "first(iris, 5)\n",
    "\n",
    "# Преобразует названия и пр. данные в числовые категории, которые понимает модель\n",
    "y_coerce = coerce(iris.Species, Multiclass)\n",
    "unique(y_coerce)\n",
    "\n",
    "# Разделение данных\n",
    "X = iris[:, 1:4]\n",
    "y = y_coerce\n",
    "\n",
    "# Разделение на общую и тестовую выборку\n",
    "train, test = partition(eachindex(y), 0.8, shuffle=true, rng=42)\n",
    "\n",
    "# Загрузка KNN модели \n",
    "KNNClassifier = @load KNNClassifier\n",
    "model = KNNClassifier()\n",
    "\n",
    "# Создание и обучение модели\n",
    "mach = machine(model, X, y)\n",
    "fit!(mach, rows=train)\n",
    "\n",
    "# Предсказания и оценка точности \n",
    "y_pred = predict_mode(mach, rows=test)  # (predict_mode сразу возвращает классы)\n",
    "accuracy = mean(y_pred .== y[test])\n",
    "\n",
    "println(\"Точность модели KNN: \", round(accuracy * 100; digits=2), \"%\")"
   ]
  }
 ],
 "metadata": {
  "kernelspec": {
   "display_name": "Julia 1.11.7",
   "language": "julia",
   "name": "julia-1.11"
  },
  "language_info": {
   "file_extension": ".jl",
   "mimetype": "application/julia",
   "name": "julia",
   "version": "1.11.7"
  }
 },
 "nbformat": 4,
 "nbformat_minor": 5
}
